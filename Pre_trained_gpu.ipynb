{
 "cells": [
  {
   "cell_type": "code",
   "execution_count": 2,
   "metadata": {},
   "outputs": [],
   "source": [
    "import pickle\n",
    "from keras.utils import np_utils"
   ]
  },
  {
   "cell_type": "code",
   "execution_count": 3,
   "metadata": {},
   "outputs": [],
   "source": [
    "with open(\"../datasets/Caltech101/data.pkl\", 'rb') as picklefile: \n",
    "    data = pickle.load(picklefile)"
   ]
  },
  {
   "cell_type": "code",
   "execution_count": 4,
   "metadata": {},
   "outputs": [],
   "source": [
    "with open(\"../datasets/Caltech101/label.pkl\", 'rb') as picklefile: \n",
    "    label = pickle.load(picklefile)"
   ]
  },
  {
   "cell_type": "code",
   "execution_count": 5,
   "metadata": {},
   "outputs": [],
   "source": [
    "label = np_utils.to_categorical(label)"
   ]
  },
  {
   "cell_type": "code",
   "execution_count": 6,
   "metadata": {},
   "outputs": [
    {
     "data": {
      "text/plain": [
       "(8296, 224, 224, 3)"
      ]
     },
     "execution_count": 6,
     "metadata": {},
     "output_type": "execute_result"
    }
   ],
   "source": [
    "data.shape"
   ]
  },
  {
   "cell_type": "code",
   "execution_count": 7,
   "metadata": {},
   "outputs": [],
   "source": [
    "data=data.transpose((0,3,1,2))"
   ]
  },
  {
   "cell_type": "code",
   "execution_count": 8,
   "metadata": {},
   "outputs": [],
   "source": [
    "from sklearn.model_selection import train_test_split"
   ]
  },
  {
   "cell_type": "code",
   "execution_count": 9,
   "metadata": {},
   "outputs": [],
   "source": [
    "X_train, X_test, y_train, y_test = train_test_split(data,label,random_state=42)"
   ]
  },
  {
   "cell_type": "code",
   "execution_count": 10,
   "metadata": {},
   "outputs": [],
   "source": [
    "from keras import applications\n",
    "from keras.preprocessing.image import ImageDataGenerator\n",
    "from keras import optimizers\n",
    "from keras.models import Sequential, Model \n",
    "from keras.layers import Dropout, Flatten, Dense, GlobalAveragePooling2D\n",
    "from keras import backend as k \n",
    "from keras.callbacks import ModelCheckpoint, LearningRateScheduler, TensorBoard, EarlyStopping"
   ]
  },
  {
   "cell_type": "code",
   "execution_count": 11,
   "metadata": {},
   "outputs": [
    {
     "name": "stdout",
     "output_type": "stream",
     "text": [
      "Downloading data from https://github.com/fchollet/deep-learning-models/releases/download/v0.1/vgg16_weights_th_dim_ordering_th_kernels_notop.h5\n"
     ]
    }
   ],
   "source": [
    "model = applications.VGG16(weights = \"imagenet\", include_top=False, input_shape = (3, 224, 224))"
   ]
  },
  {
   "cell_type": "code",
   "execution_count": 15,
   "metadata": {},
   "outputs": [],
   "source": [
    "for layer in model.layers:\n",
    "    layer.trainable = False\n",
    "\n",
    "#Adding custom Layers \n",
    "x = model.output\n",
    "x = Flatten()(x)\n",
    "x = Dense(1024, activation=\"relu\")(x)\n",
    "x = Dropout(0.5)(x)\n",
    "x = Dense(512, activation=\"relu\")(x)\n",
    "predictions = Dense(100, activation=\"softmax\")(x)\n",
    "\n",
    "# creating the final model \n",
    "model_final = Model(input = model.input, output = predictions)\n",
    "\n",
    "# compile the model \n",
    "model_final.compile(loss = \"categorical_crossentropy\", optimizer = optimizers.SGD(lr=0.0001, momentum=0.9), metrics=[\"accuracy\"],context=[\"gpu(0)\"])"
   ]
  },
  {
   "cell_type": "code",
   "execution_count": 16,
   "metadata": {},
   "outputs": [
    {
     "name": "stdout",
     "output_type": "stream",
     "text": [
      "____________________________________________________________________________________________________\n",
      "Layer (type)                     Output Shape          Param #     Connected to                     \n",
      "====================================================================================================\n",
      "input_1 (InputLayer)             (None, 3, 224, 224)   0                                            \n",
      "____________________________________________________________________________________________________\n",
      "block1_conv1 (Convolution2D)     (None, 64, 224, 224)  1792        input_1[0][0]                    \n",
      "____________________________________________________________________________________________________\n",
      "block1_conv2 (Convolution2D)     (None, 64, 224, 224)  36928       block1_conv1[0][0]               \n",
      "____________________________________________________________________________________________________\n",
      "block1_pool (MaxPooling2D)       (None, 64, 112, 112)  0           block1_conv2[0][0]               \n",
      "____________________________________________________________________________________________________\n",
      "block2_conv1 (Convolution2D)     (None, 128, 112, 112) 73856       block1_pool[0][0]                \n",
      "____________________________________________________________________________________________________\n",
      "block2_conv2 (Convolution2D)     (None, 128, 112, 112) 147584      block2_conv1[0][0]               \n",
      "____________________________________________________________________________________________________\n",
      "block2_pool (MaxPooling2D)       (None, 128, 56, 56)   0           block2_conv2[0][0]               \n",
      "____________________________________________________________________________________________________\n",
      "block3_conv1 (Convolution2D)     (None, 256, 56, 56)   295168      block2_pool[0][0]                \n",
      "____________________________________________________________________________________________________\n",
      "block3_conv2 (Convolution2D)     (None, 256, 56, 56)   590080      block3_conv1[0][0]               \n",
      "____________________________________________________________________________________________________\n",
      "block3_conv3 (Convolution2D)     (None, 256, 56, 56)   590080      block3_conv2[0][0]               \n",
      "____________________________________________________________________________________________________\n",
      "block3_pool (MaxPooling2D)       (None, 256, 28, 28)   0           block3_conv3[0][0]               \n",
      "____________________________________________________________________________________________________\n",
      "block4_conv1 (Convolution2D)     (None, 512, 28, 28)   1180160     block3_pool[0][0]                \n",
      "____________________________________________________________________________________________________\n",
      "block4_conv2 (Convolution2D)     (None, 512, 28, 28)   2359808     block4_conv1[0][0]               \n",
      "____________________________________________________________________________________________________\n",
      "block4_conv3 (Convolution2D)     (None, 512, 28, 28)   2359808     block4_conv2[0][0]               \n",
      "____________________________________________________________________________________________________\n",
      "block4_pool (MaxPooling2D)       (None, 512, 14, 14)   0           block4_conv3[0][0]               \n",
      "____________________________________________________________________________________________________\n",
      "block5_conv1 (Convolution2D)     (None, 512, 14, 14)   2359808     block4_pool[0][0]                \n",
      "____________________________________________________________________________________________________\n",
      "block5_conv2 (Convolution2D)     (None, 512, 14, 14)   2359808     block5_conv1[0][0]               \n",
      "____________________________________________________________________________________________________\n",
      "block5_conv3 (Convolution2D)     (None, 512, 14, 14)   2359808     block5_conv2[0][0]               \n",
      "____________________________________________________________________________________________________\n",
      "block5_pool (MaxPooling2D)       (None, 512, 7, 7)     0           block5_conv3[0][0]               \n",
      "____________________________________________________________________________________________________\n",
      "flatten_1 (Flatten)              (None, 25088)         0           block5_pool[0][0]                \n",
      "____________________________________________________________________________________________________\n",
      "dense_1 (Dense)                  (None, 1024)          25691136    flatten_1[0][0]                  \n",
      "____________________________________________________________________________________________________\n",
      "dropout_1 (Dropout)              (None, 1024)          0           dense_1[0][0]                    \n",
      "____________________________________________________________________________________________________\n",
      "dense_2 (Dense)                  (None, 512)           524800      dropout_1[0][0]                  \n",
      "____________________________________________________________________________________________________\n",
      "dense_3 (Dense)                  (None, 100)           51300       dense_2[0][0]                    \n",
      "====================================================================================================\n",
      "Total params: 40,981,924\n",
      "Trainable params: 26,267,236\n",
      "Non-trainable params: 14,714,688\n",
      "____________________________________________________________________________________________________\n"
     ]
    }
   ],
   "source": [
    "model_final.summary()"
   ]
  },
  {
   "cell_type": "code",
   "execution_count": 17,
   "metadata": {},
   "outputs": [
    {
     "name": "stdout",
     "output_type": "stream",
     "text": [
      "Train on 6222 samples, validate on 2074 samples\n",
      "Epoch 1/10\n"
     ]
    },
    {
     "name": "stderr",
     "output_type": "stream",
     "text": [
      "/usr/local/lib/python3.5/dist-packages/mxnet/module/bucketing_module.py:385: UserWarning: Optimizer created manually outside Module but rescale_grad is not normalized to 1.0/batch_size/num_workers (1.0 vs. 0.01). Is this intended?\n",
      "  force_init=force_init)\n"
     ]
    },
    {
     "name": "stdout",
     "output_type": "stream",
     "text": [
      "6222/6222 [==============================] - 46s - loss: 13.0807 - acc: 0.1500 - val_loss: 10.0164 - val_acc: 0.3139\n",
      "Epoch 2/10\n",
      "6222/6222 [==============================] - 26s - loss: 9.7497 - acc: 0.3327 - val_loss: 7.4872 - val_acc: 0.4508\n",
      "Epoch 3/10\n",
      "6222/6222 [==============================] - 26s - loss: 7.6294 - acc: 0.4426 - val_loss: 6.0055 - val_acc: 0.5357\n",
      "Epoch 4/10\n",
      "6222/6222 [==============================] - 26s - loss: 6.0350 - acc: 0.5296 - val_loss: 4.4403 - val_acc: 0.6085\n",
      "Epoch 5/10\n",
      "6222/6222 [==============================] - 26s - loss: 4.6134 - acc: 0.6088 - val_loss: 3.4964 - val_acc: 0.6649\n",
      "Epoch 6/10\n",
      "6222/6222 [==============================] - 26s - loss: 3.5949 - acc: 0.6718 - val_loss: 2.9104 - val_acc: 0.6905\n",
      "Epoch 7/10\n",
      "6222/6222 [==============================] - 26s - loss: 2.8280 - acc: 0.7199 - val_loss: 2.4071 - val_acc: 0.7281\n",
      "Epoch 8/10\n",
      "6222/6222 [==============================] - 26s - loss: 2.2857 - acc: 0.7583 - val_loss: 2.1526 - val_acc: 0.7416\n",
      "Epoch 9/10\n",
      "6222/6222 [==============================] - 26s - loss: 1.8095 - acc: 0.8009 - val_loss: 1.8996 - val_acc: 0.7546\n",
      "Epoch 10/10\n",
      "6222/6222 [==============================] - 26s - loss: 1.4866 - acc: 0.8194 - val_loss: 1.6920 - val_acc: 0.7700\n"
     ]
    },
    {
     "data": {
      "text/plain": [
       "<keras.callbacks.History at 0x7f5e8a84bc50>"
      ]
     },
     "execution_count": 17,
     "metadata": {},
     "output_type": "execute_result"
    }
   ],
   "source": [
    "model_final.fit(X_train, y_train,\n",
    "                nb_epoch=10,\n",
    "                shuffle=True,\n",
    "                batch_size=100,\n",
    "                validation_data=(X_test, y_test))"
   ]
  },
  {
   "cell_type": "code",
   "execution_count": null,
   "metadata": {},
   "outputs": [],
   "source": []
  },
  {
   "cell_type": "markdown",
   "metadata": {},
   "source": [
    "# vgg19"
   ]
  },
  {
   "cell_type": "code",
   "execution_count": 12,
   "metadata": {},
   "outputs": [
    {
     "name": "stdout",
     "output_type": "stream",
     "text": [
      "Downloading data from https://github.com/fchollet/deep-learning-models/releases/download/v0.1/vgg19_weights_th_dim_ordering_th_kernels_notop.h5\n"
     ]
    }
   ],
   "source": [
    "model1 = applications.VGG19(weights = \"imagenet\", include_top=False, input_shape = (3, 224, 224))"
   ]
  },
  {
   "cell_type": "code",
   "execution_count": 18,
   "metadata": {},
   "outputs": [],
   "source": [
    "for layer in model1.layers:\n",
    "    layer.trainable = False\n",
    "\n",
    "#Adding custom Layers \n",
    "x1 = model1.output\n",
    "x1 = Flatten()(x1)\n",
    "x1 = Dense(1024, activation=\"relu\")(x1)\n",
    "x1 = Dropout(0.5)(x1)\n",
    "x1 = Dense(512, activation=\"relu\")(x1)\n",
    "predictions1 = Dense(100, activation=\"softmax\")(x1)\n",
    "\n",
    "# creating the final model \n",
    "model_final1 = Model(input = model1.input, output = predictions1)"
   ]
  },
  {
   "cell_type": "code",
   "execution_count": 19,
   "metadata": {},
   "outputs": [],
   "source": [
    "# compile the model \n",
    "model_final1.compile(loss = \"categorical_crossentropy\", optimizer = optimizers.SGD(lr=0.0001, momentum=0.9), metrics=[\"accuracy\"],context=[\"gpu(0)\"])"
   ]
  },
  {
   "cell_type": "code",
   "execution_count": 20,
   "metadata": {},
   "outputs": [
    {
     "name": "stdout",
     "output_type": "stream",
     "text": [
      "Train on 6222 samples, validate on 2074 samples\n",
      "Epoch 1/10\n"
     ]
    },
    {
     "name": "stderr",
     "output_type": "stream",
     "text": [
      "/usr/local/lib/python3.5/dist-packages/mxnet/module/bucketing_module.py:385: UserWarning: Optimizer created manually outside Module but rescale_grad is not normalized to 1.0/batch_size/num_workers (1.0 vs. 0.01). Is this intended?\n",
      "  force_init=force_init)\n"
     ]
    },
    {
     "name": "stdout",
     "output_type": "stream",
     "text": [
      "6222/6222 [==============================] - 30s - loss: 13.6313 - acc: 0.1077 - val_loss: 9.4405 - val_acc: 0.2367\n",
      "Epoch 2/10\n",
      "6222/6222 [==============================] - 30s - loss: 9.3396 - acc: 0.3240 - val_loss: 6.6839 - val_acc: 0.4426\n",
      "Epoch 3/10\n",
      "6222/6222 [==============================] - 30s - loss: 7.1794 - acc: 0.4280 - val_loss: 4.7507 - val_acc: 0.5395\n",
      "Epoch 4/10\n",
      "6222/6222 [==============================] - 30s - loss: 4.8453 - acc: 0.5591 - val_loss: 3.2058 - val_acc: 0.6615\n",
      "Epoch 5/10\n",
      "6222/6222 [==============================] - 30s - loss: 3.4533 - acc: 0.6508 - val_loss: 2.5448 - val_acc: 0.7020\n",
      "Epoch 6/10\n",
      "6222/6222 [==============================] - 30s - loss: 2.5548 - acc: 0.7199 - val_loss: 2.1942 - val_acc: 0.7208\n",
      "Epoch 7/10\n",
      "6222/6222 [==============================] - 30s - loss: 2.0452 - acc: 0.7546 - val_loss: 1.8390 - val_acc: 0.7445\n",
      "Epoch 8/10\n",
      "6222/6222 [==============================] - 30s - loss: 1.4682 - acc: 0.8028 - val_loss: 1.6162 - val_acc: 0.7507\n",
      "Epoch 9/10\n",
      "6222/6222 [==============================] - 30s - loss: 1.1670 - acc: 0.8308 - val_loss: 1.4080 - val_acc: 0.7671\n",
      "Epoch 10/10\n",
      "6222/6222 [==============================] - 30s - loss: 0.8969 - acc: 0.8590 - val_loss: 1.2793 - val_acc: 0.7758\n"
     ]
    },
    {
     "data": {
      "text/plain": [
       "<keras.callbacks.History at 0x7f5e8a976630>"
      ]
     },
     "execution_count": 20,
     "metadata": {},
     "output_type": "execute_result"
    }
   ],
   "source": [
    "model_final1.fit(X_train, y_train,\n",
    "                nb_epoch=10,\n",
    "                shuffle=True,\n",
    "                batch_size=100,\n",
    "                validation_data=(X_test, y_test))"
   ]
  },
  {
   "cell_type": "code",
   "execution_count": null,
   "metadata": {},
   "outputs": [],
   "source": []
  },
  {
   "cell_type": "code",
   "execution_count": null,
   "metadata": {},
   "outputs": [],
   "source": []
  },
  {
   "cell_type": "markdown",
   "metadata": {},
   "source": [
    "# inception v3"
   ]
  },
  {
   "cell_type": "code",
   "execution_count": 13,
   "metadata": {},
   "outputs": [
    {
     "name": "stdout",
     "output_type": "stream",
     "text": [
      "Downloading data from https://github.com/fchollet/deep-learning-models/releases/download/v0.2/inception_v3_weights_th_dim_ordering_th_kernels_notop.h5\n"
     ]
    }
   ],
   "source": [
    "model2 = applications.InceptionV3(weights = \"imagenet\", include_top=False, input_shape = (3, 224, 224))"
   ]
  },
  {
   "cell_type": "code",
   "execution_count": 21,
   "metadata": {},
   "outputs": [],
   "source": [
    "for layer in model2.layers:\n",
    "    layer.trainable = False\n",
    "\n",
    "#Adding custom Layers \n",
    "x2 = model2.output\n",
    "x2 = Flatten()(x2)\n",
    "x2 = Dense(1024, activation=\"relu\")(x2)\n",
    "x2 = Dropout(0.5)(x2)\n",
    "x2 = Dense(512, activation=\"relu\")(x2)\n",
    "predictions2 = Dense(100, activation=\"softmax\")(x2)\n",
    "\n",
    "# creating the final model \n",
    "model_final2 = Model(input = model2.input, output = predictions2)\n",
    "# compile the model \n",
    "model_final2.compile(loss = \"categorical_crossentropy\", optimizer = optimizers.SGD(lr=0.0001, momentum=0.9), metrics=[\"accuracy\"],context=[\"gpu(0)\"])"
   ]
  },
  {
   "cell_type": "code",
   "execution_count": 22,
   "metadata": {},
   "outputs": [
    {
     "name": "stdout",
     "output_type": "stream",
     "text": [
      "Train on 6222 samples, validate on 2074 samples\n",
      "Epoch 1/10\n"
     ]
    },
    {
     "name": "stderr",
     "output_type": "stream",
     "text": [
      "/usr/local/lib/python3.5/dist-packages/mxnet/module/bucketing_module.py:385: UserWarning: Optimizer created manually outside Module but rescale_grad is not normalized to 1.0/batch_size/num_workers (1.0 vs. 0.01). Is this intended?\n",
      "  force_init=force_init)\n"
     ]
    },
    {
     "name": "stdout",
     "output_type": "stream",
     "text": [
      "6222/6222 [==============================] - 25s - loss: 4.9430 - acc: 0.0710 - val_loss: 3.9716 - val_acc: 0.2483\n",
      "Epoch 2/10\n",
      "6222/6222 [==============================] - 15s - loss: 4.0037 - acc: 0.2350 - val_loss: 3.5114 - val_acc: 0.2917\n",
      "Epoch 3/10\n",
      "6222/6222 [==============================] - 15s - loss: 3.5827 - acc: 0.2901 - val_loss: 3.2491 - val_acc: 0.3303\n",
      "Epoch 4/10\n",
      "6222/6222 [==============================] - 15s - loss: 3.3051 - acc: 0.3274 - val_loss: 3.0681 - val_acc: 0.3650\n",
      "Epoch 5/10\n",
      "6222/6222 [==============================] - 15s - loss: 3.0813 - acc: 0.3560 - val_loss: 2.9164 - val_acc: 0.3949\n",
      "Epoch 6/10\n",
      "6222/6222 [==============================] - 15s - loss: 2.8832 - acc: 0.3854 - val_loss: 2.7664 - val_acc: 0.4277\n",
      "Epoch 7/10\n",
      "6222/6222 [==============================] - 15s - loss: 2.7071 - acc: 0.4134 - val_loss: 2.6724 - val_acc: 0.4518\n",
      "Epoch 8/10\n",
      "6222/6222 [==============================] - 15s - loss: 2.5500 - acc: 0.4452 - val_loss: 2.5514 - val_acc: 0.4831\n",
      "Epoch 9/10\n",
      "6222/6222 [==============================] - 15s - loss: 2.3797 - acc: 0.4788 - val_loss: 2.4364 - val_acc: 0.5014\n",
      "Epoch 10/10\n",
      "6222/6222 [==============================] - 15s - loss: 2.2225 - acc: 0.5133 - val_loss: 2.3684 - val_acc: 0.5193\n"
     ]
    },
    {
     "data": {
      "text/plain": [
       "<keras.callbacks.History at 0x7f5e8a7a56a0>"
      ]
     },
     "execution_count": 22,
     "metadata": {},
     "output_type": "execute_result"
    }
   ],
   "source": [
    "model_final2.fit(X_train, y_train,\n",
    "                nb_epoch=10,\n",
    "                shuffle=True,\n",
    "                batch_size=100,\n",
    "                validation_data=(X_test, y_test))"
   ]
  },
  {
   "cell_type": "code",
   "execution_count": null,
   "metadata": {},
   "outputs": [],
   "source": []
  },
  {
   "cell_type": "code",
   "execution_count": null,
   "metadata": {},
   "outputs": [],
   "source": []
  },
  {
   "cell_type": "markdown",
   "metadata": {},
   "source": [
    "# resnet50"
   ]
  },
  {
   "cell_type": "code",
   "execution_count": 14,
   "metadata": {},
   "outputs": [
    {
     "name": "stdout",
     "output_type": "stream",
     "text": [
      "Downloading data from https://github.com/fchollet/deep-learning-models/releases/download/v0.2/resnet50_weights_th_dim_ordering_th_kernels_notop.h5\n"
     ]
    }
   ],
   "source": [
    "model3 = applications.ResNet50(weights = \"imagenet\", include_top=False, input_shape = (3, 224, 224))"
   ]
  },
  {
   "cell_type": "code",
   "execution_count": 23,
   "metadata": {},
   "outputs": [],
   "source": [
    "for layer in model3.layers:\n",
    "    layer.trainable = False\n",
    "\n",
    "#Adding custom Layers \n",
    "x3 = model3.output\n",
    "#x3 = Flatten()(x3)\n",
    "x3 = GlobalAveragePooling2D()(x3)\n",
    "x3 = Dense(1024, activation=\"relu\")(x3)\n",
    "x3 = Dropout(0.5)(x3)\n",
    "x3 = Dense(512, activation=\"relu\")(x3)\n",
    "predictions3 = Dense(100, activation=\"softmax\")(x3)\n",
    "\n",
    "# creating the final model \n",
    "model_final3 = Model(input = model3.input, output = predictions3)\n",
    "# compile the model \n",
    "model_final3.compile(loss = \"categorical_crossentropy\", optimizer = optimizers.SGD(lr=0.0001, momentum=0.9), metrics=[\"accuracy\"],context=[\"gpu(0)\"])"
   ]
  },
  {
   "cell_type": "code",
   "execution_count": 24,
   "metadata": {},
   "outputs": [
    {
     "name": "stdout",
     "output_type": "stream",
     "text": [
      "____________________________________________________________________________________________________\n",
      "Layer (type)                     Output Shape          Param #     Connected to                     \n",
      "====================================================================================================\n",
      "input_4 (InputLayer)             (None, 3, 224, 224)   0                                            \n",
      "____________________________________________________________________________________________________\n",
      "zeropadding2d_1 (ZeroPadding2D)  (None, 3, 230, 230)   0           input_4[0][0]                    \n",
      "____________________________________________________________________________________________________\n",
      "conv1 (Convolution2D)            (None, 64, 112, 112)  9472        zeropadding2d_1[0][0]            \n",
      "____________________________________________________________________________________________________\n",
      "bn_conv1 (BatchNormalization)    (None, 64, 112, 112)  256         conv1[0][0]                      \n",
      "____________________________________________________________________________________________________\n",
      "activation_1 (Activation)        (None, 64, 112, 112)  0           bn_conv1[0][0]                   \n",
      "____________________________________________________________________________________________________\n",
      "maxpooling2d_4 (MaxPooling2D)    (None, 64, 55, 55)    0           activation_1[0][0]               \n",
      "____________________________________________________________________________________________________\n",
      "res2a_branch2a (Convolution2D)   (None, 64, 55, 55)    4160        maxpooling2d_4[0][0]             \n",
      "____________________________________________________________________________________________________\n",
      "bn2a_branch2a (BatchNormalizatio (None, 64, 55, 55)    256         res2a_branch2a[0][0]             \n",
      "____________________________________________________________________________________________________\n",
      "activation_2 (Activation)        (None, 64, 55, 55)    0           bn2a_branch2a[0][0]              \n",
      "____________________________________________________________________________________________________\n",
      "res2a_branch2b (Convolution2D)   (None, 64, 55, 55)    36928       activation_2[0][0]               \n",
      "____________________________________________________________________________________________________\n",
      "bn2a_branch2b (BatchNormalizatio (None, 64, 55, 55)    256         res2a_branch2b[0][0]             \n",
      "____________________________________________________________________________________________________\n",
      "activation_3 (Activation)        (None, 64, 55, 55)    0           bn2a_branch2b[0][0]              \n",
      "____________________________________________________________________________________________________\n",
      "res2a_branch2c (Convolution2D)   (None, 256, 55, 55)   16640       activation_3[0][0]               \n",
      "____________________________________________________________________________________________________\n",
      "res2a_branch1 (Convolution2D)    (None, 256, 55, 55)   16640       maxpooling2d_4[0][0]             \n",
      "____________________________________________________________________________________________________\n",
      "bn2a_branch2c (BatchNormalizatio (None, 256, 55, 55)   1024        res2a_branch2c[0][0]             \n",
      "____________________________________________________________________________________________________\n",
      "bn2a_branch1 (BatchNormalization (None, 256, 55, 55)   1024        res2a_branch1[0][0]              \n",
      "____________________________________________________________________________________________________\n",
      "merge_3 (Merge)                  (None, 256, 55, 55)   0           bn2a_branch2c[0][0]              \n",
      "                                                                   bn2a_branch1[0][0]               \n",
      "____________________________________________________________________________________________________\n",
      "activation_4 (Activation)        (None, 256, 55, 55)   0           merge_3[0][0]                    \n",
      "____________________________________________________________________________________________________\n",
      "res2b_branch2a (Convolution2D)   (None, 64, 55, 55)    16448       activation_4[0][0]               \n",
      "____________________________________________________________________________________________________\n",
      "bn2b_branch2a (BatchNormalizatio (None, 64, 55, 55)    256         res2b_branch2a[0][0]             \n",
      "____________________________________________________________________________________________________\n",
      "activation_5 (Activation)        (None, 64, 55, 55)    0           bn2b_branch2a[0][0]              \n",
      "____________________________________________________________________________________________________\n",
      "res2b_branch2b (Convolution2D)   (None, 64, 55, 55)    36928       activation_5[0][0]               \n",
      "____________________________________________________________________________________________________\n",
      "bn2b_branch2b (BatchNormalizatio (None, 64, 55, 55)    256         res2b_branch2b[0][0]             \n",
      "____________________________________________________________________________________________________\n",
      "activation_6 (Activation)        (None, 64, 55, 55)    0           bn2b_branch2b[0][0]              \n",
      "____________________________________________________________________________________________________\n",
      "res2b_branch2c (Convolution2D)   (None, 256, 55, 55)   16640       activation_6[0][0]               \n",
      "____________________________________________________________________________________________________\n",
      "bn2b_branch2c (BatchNormalizatio (None, 256, 55, 55)   1024        res2b_branch2c[0][0]             \n",
      "____________________________________________________________________________________________________\n",
      "merge_4 (Merge)                  (None, 256, 55, 55)   0           bn2b_branch2c[0][0]              \n",
      "                                                                   activation_4[0][0]               \n",
      "____________________________________________________________________________________________________\n",
      "activation_7 (Activation)        (None, 256, 55, 55)   0           merge_4[0][0]                    \n",
      "____________________________________________________________________________________________________\n",
      "res2c_branch2a (Convolution2D)   (None, 64, 55, 55)    16448       activation_7[0][0]               \n",
      "____________________________________________________________________________________________________\n",
      "bn2c_branch2a (BatchNormalizatio (None, 64, 55, 55)    256         res2c_branch2a[0][0]             \n",
      "____________________________________________________________________________________________________\n",
      "activation_8 (Activation)        (None, 64, 55, 55)    0           bn2c_branch2a[0][0]              \n",
      "____________________________________________________________________________________________________\n",
      "res2c_branch2b (Convolution2D)   (None, 64, 55, 55)    36928       activation_8[0][0]               \n",
      "____________________________________________________________________________________________________\n",
      "bn2c_branch2b (BatchNormalizatio (None, 64, 55, 55)    256         res2c_branch2b[0][0]             \n",
      "____________________________________________________________________________________________________\n",
      "activation_9 (Activation)        (None, 64, 55, 55)    0           bn2c_branch2b[0][0]              \n",
      "____________________________________________________________________________________________________\n",
      "res2c_branch2c (Convolution2D)   (None, 256, 55, 55)   16640       activation_9[0][0]               \n",
      "____________________________________________________________________________________________________\n",
      "bn2c_branch2c (BatchNormalizatio (None, 256, 55, 55)   1024        res2c_branch2c[0][0]             \n",
      "____________________________________________________________________________________________________\n",
      "merge_5 (Merge)                  (None, 256, 55, 55)   0           bn2c_branch2c[0][0]              \n",
      "                                                                   activation_7[0][0]               \n",
      "____________________________________________________________________________________________________\n",
      "activation_10 (Activation)       (None, 256, 55, 55)   0           merge_5[0][0]                    \n",
      "____________________________________________________________________________________________________\n",
      "res3a_branch2a (Convolution2D)   (None, 128, 28, 28)   32896       activation_10[0][0]              \n",
      "____________________________________________________________________________________________________\n",
      "bn3a_branch2a (BatchNormalizatio (None, 128, 28, 28)   512         res3a_branch2a[0][0]             \n",
      "____________________________________________________________________________________________________\n",
      "activation_11 (Activation)       (None, 128, 28, 28)   0           bn3a_branch2a[0][0]              \n",
      "____________________________________________________________________________________________________\n",
      "res3a_branch2b (Convolution2D)   (None, 128, 28, 28)   147584      activation_11[0][0]              \n",
      "____________________________________________________________________________________________________\n",
      "bn3a_branch2b (BatchNormalizatio (None, 128, 28, 28)   512         res3a_branch2b[0][0]             \n",
      "____________________________________________________________________________________________________\n",
      "activation_12 (Activation)       (None, 128, 28, 28)   0           bn3a_branch2b[0][0]              \n",
      "____________________________________________________________________________________________________\n",
      "res3a_branch2c (Convolution2D)   (None, 512, 28, 28)   66048       activation_12[0][0]              \n",
      "____________________________________________________________________________________________________\n",
      "res3a_branch1 (Convolution2D)    (None, 512, 28, 28)   131584      activation_10[0][0]              \n",
      "____________________________________________________________________________________________________\n",
      "bn3a_branch2c (BatchNormalizatio (None, 512, 28, 28)   2048        res3a_branch2c[0][0]             \n",
      "____________________________________________________________________________________________________\n",
      "bn3a_branch1 (BatchNormalization (None, 512, 28, 28)   2048        res3a_branch1[0][0]              \n",
      "____________________________________________________________________________________________________\n",
      "merge_6 (Merge)                  (None, 512, 28, 28)   0           bn3a_branch2c[0][0]              \n",
      "                                                                   bn3a_branch1[0][0]               \n",
      "____________________________________________________________________________________________________\n",
      "activation_13 (Activation)       (None, 512, 28, 28)   0           merge_6[0][0]                    \n",
      "____________________________________________________________________________________________________\n",
      "res3b_branch2a (Convolution2D)   (None, 128, 28, 28)   65664       activation_13[0][0]              \n",
      "____________________________________________________________________________________________________\n",
      "bn3b_branch2a (BatchNormalizatio (None, 128, 28, 28)   512         res3b_branch2a[0][0]             \n",
      "____________________________________________________________________________________________________\n",
      "activation_14 (Activation)       (None, 128, 28, 28)   0           bn3b_branch2a[0][0]              \n",
      "____________________________________________________________________________________________________\n",
      "res3b_branch2b (Convolution2D)   (None, 128, 28, 28)   147584      activation_14[0][0]              \n",
      "____________________________________________________________________________________________________\n",
      "bn3b_branch2b (BatchNormalizatio (None, 128, 28, 28)   512         res3b_branch2b[0][0]             \n",
      "____________________________________________________________________________________________________\n",
      "activation_15 (Activation)       (None, 128, 28, 28)   0           bn3b_branch2b[0][0]              \n",
      "____________________________________________________________________________________________________\n",
      "res3b_branch2c (Convolution2D)   (None, 512, 28, 28)   66048       activation_15[0][0]              \n",
      "____________________________________________________________________________________________________\n",
      "bn3b_branch2c (BatchNormalizatio (None, 512, 28, 28)   2048        res3b_branch2c[0][0]             \n",
      "____________________________________________________________________________________________________\n",
      "merge_7 (Merge)                  (None, 512, 28, 28)   0           bn3b_branch2c[0][0]              \n",
      "                                                                   activation_13[0][0]              \n",
      "____________________________________________________________________________________________________\n",
      "activation_16 (Activation)       (None, 512, 28, 28)   0           merge_7[0][0]                    \n",
      "____________________________________________________________________________________________________\n",
      "res3c_branch2a (Convolution2D)   (None, 128, 28, 28)   65664       activation_16[0][0]              \n",
      "____________________________________________________________________________________________________\n",
      "bn3c_branch2a (BatchNormalizatio (None, 128, 28, 28)   512         res3c_branch2a[0][0]             \n",
      "____________________________________________________________________________________________________\n",
      "activation_17 (Activation)       (None, 128, 28, 28)   0           bn3c_branch2a[0][0]              \n",
      "____________________________________________________________________________________________________\n",
      "res3c_branch2b (Convolution2D)   (None, 128, 28, 28)   147584      activation_17[0][0]              \n",
      "____________________________________________________________________________________________________\n",
      "bn3c_branch2b (BatchNormalizatio (None, 128, 28, 28)   512         res3c_branch2b[0][0]             \n",
      "____________________________________________________________________________________________________\n",
      "activation_18 (Activation)       (None, 128, 28, 28)   0           bn3c_branch2b[0][0]              \n",
      "____________________________________________________________________________________________________\n",
      "res3c_branch2c (Convolution2D)   (None, 512, 28, 28)   66048       activation_18[0][0]              \n",
      "____________________________________________________________________________________________________\n",
      "bn3c_branch2c (BatchNormalizatio (None, 512, 28, 28)   2048        res3c_branch2c[0][0]             \n",
      "____________________________________________________________________________________________________\n",
      "merge_8 (Merge)                  (None, 512, 28, 28)   0           bn3c_branch2c[0][0]              \n",
      "                                                                   activation_16[0][0]              \n",
      "____________________________________________________________________________________________________\n",
      "activation_19 (Activation)       (None, 512, 28, 28)   0           merge_8[0][0]                    \n",
      "____________________________________________________________________________________________________\n",
      "res3d_branch2a (Convolution2D)   (None, 128, 28, 28)   65664       activation_19[0][0]              \n",
      "____________________________________________________________________________________________________\n",
      "bn3d_branch2a (BatchNormalizatio (None, 128, 28, 28)   512         res3d_branch2a[0][0]             \n",
      "____________________________________________________________________________________________________\n",
      "activation_20 (Activation)       (None, 128, 28, 28)   0           bn3d_branch2a[0][0]              \n",
      "____________________________________________________________________________________________________\n",
      "res3d_branch2b (Convolution2D)   (None, 128, 28, 28)   147584      activation_20[0][0]              \n",
      "____________________________________________________________________________________________________\n",
      "bn3d_branch2b (BatchNormalizatio (None, 128, 28, 28)   512         res3d_branch2b[0][0]             \n",
      "____________________________________________________________________________________________________\n",
      "activation_21 (Activation)       (None, 128, 28, 28)   0           bn3d_branch2b[0][0]              \n",
      "____________________________________________________________________________________________________\n",
      "res3d_branch2c (Convolution2D)   (None, 512, 28, 28)   66048       activation_21[0][0]              \n",
      "____________________________________________________________________________________________________\n",
      "bn3d_branch2c (BatchNormalizatio (None, 512, 28, 28)   2048        res3d_branch2c[0][0]             \n",
      "____________________________________________________________________________________________________\n",
      "merge_9 (Merge)                  (None, 512, 28, 28)   0           bn3d_branch2c[0][0]              \n",
      "                                                                   activation_19[0][0]              \n",
      "____________________________________________________________________________________________________\n",
      "activation_22 (Activation)       (None, 512, 28, 28)   0           merge_9[0][0]                    \n",
      "____________________________________________________________________________________________________\n",
      "res4a_branch2a (Convolution2D)   (None, 256, 14, 14)   131328      activation_22[0][0]              \n",
      "____________________________________________________________________________________________________\n",
      "bn4a_branch2a (BatchNormalizatio (None, 256, 14, 14)   1024        res4a_branch2a[0][0]             \n",
      "____________________________________________________________________________________________________\n",
      "activation_23 (Activation)       (None, 256, 14, 14)   0           bn4a_branch2a[0][0]              \n",
      "____________________________________________________________________________________________________\n",
      "res4a_branch2b (Convolution2D)   (None, 256, 14, 14)   590080      activation_23[0][0]              \n",
      "____________________________________________________________________________________________________\n",
      "bn4a_branch2b (BatchNormalizatio (None, 256, 14, 14)   1024        res4a_branch2b[0][0]             \n",
      "____________________________________________________________________________________________________\n",
      "activation_24 (Activation)       (None, 256, 14, 14)   0           bn4a_branch2b[0][0]              \n",
      "____________________________________________________________________________________________________\n",
      "res4a_branch2c (Convolution2D)   (None, 1024, 14, 14)  263168      activation_24[0][0]              \n",
      "____________________________________________________________________________________________________\n",
      "res4a_branch1 (Convolution2D)    (None, 1024, 14, 14)  525312      activation_22[0][0]              \n",
      "____________________________________________________________________________________________________\n",
      "bn4a_branch2c (BatchNormalizatio (None, 1024, 14, 14)  4096        res4a_branch2c[0][0]             \n",
      "____________________________________________________________________________________________________\n",
      "bn4a_branch1 (BatchNormalization (None, 1024, 14, 14)  4096        res4a_branch1[0][0]              \n",
      "____________________________________________________________________________________________________\n",
      "merge_10 (Merge)                 (None, 1024, 14, 14)  0           bn4a_branch2c[0][0]              \n",
      "                                                                   bn4a_branch1[0][0]               \n",
      "____________________________________________________________________________________________________\n",
      "activation_25 (Activation)       (None, 1024, 14, 14)  0           merge_10[0][0]                   \n",
      "____________________________________________________________________________________________________\n",
      "res4b_branch2a (Convolution2D)   (None, 256, 14, 14)   262400      activation_25[0][0]              \n",
      "____________________________________________________________________________________________________\n",
      "bn4b_branch2a (BatchNormalizatio (None, 256, 14, 14)   1024        res4b_branch2a[0][0]             \n",
      "____________________________________________________________________________________________________\n",
      "activation_26 (Activation)       (None, 256, 14, 14)   0           bn4b_branch2a[0][0]              \n",
      "____________________________________________________________________________________________________\n",
      "res4b_branch2b (Convolution2D)   (None, 256, 14, 14)   590080      activation_26[0][0]              \n",
      "____________________________________________________________________________________________________\n",
      "bn4b_branch2b (BatchNormalizatio (None, 256, 14, 14)   1024        res4b_branch2b[0][0]             \n",
      "____________________________________________________________________________________________________\n",
      "activation_27 (Activation)       (None, 256, 14, 14)   0           bn4b_branch2b[0][0]              \n",
      "____________________________________________________________________________________________________\n",
      "res4b_branch2c (Convolution2D)   (None, 1024, 14, 14)  263168      activation_27[0][0]              \n",
      "____________________________________________________________________________________________________\n",
      "bn4b_branch2c (BatchNormalizatio (None, 1024, 14, 14)  4096        res4b_branch2c[0][0]             \n",
      "____________________________________________________________________________________________________\n",
      "merge_11 (Merge)                 (None, 1024, 14, 14)  0           bn4b_branch2c[0][0]              \n",
      "                                                                   activation_25[0][0]              \n",
      "____________________________________________________________________________________________________\n",
      "activation_28 (Activation)       (None, 1024, 14, 14)  0           merge_11[0][0]                   \n",
      "____________________________________________________________________________________________________\n",
      "res4c_branch2a (Convolution2D)   (None, 256, 14, 14)   262400      activation_28[0][0]              \n",
      "____________________________________________________________________________________________________\n",
      "bn4c_branch2a (BatchNormalizatio (None, 256, 14, 14)   1024        res4c_branch2a[0][0]             \n",
      "____________________________________________________________________________________________________\n",
      "activation_29 (Activation)       (None, 256, 14, 14)   0           bn4c_branch2a[0][0]              \n",
      "____________________________________________________________________________________________________\n",
      "res4c_branch2b (Convolution2D)   (None, 256, 14, 14)   590080      activation_29[0][0]              \n",
      "____________________________________________________________________________________________________\n",
      "bn4c_branch2b (BatchNormalizatio (None, 256, 14, 14)   1024        res4c_branch2b[0][0]             \n",
      "____________________________________________________________________________________________________\n",
      "activation_30 (Activation)       (None, 256, 14, 14)   0           bn4c_branch2b[0][0]              \n",
      "____________________________________________________________________________________________________\n",
      "res4c_branch2c (Convolution2D)   (None, 1024, 14, 14)  263168      activation_30[0][0]              \n",
      "____________________________________________________________________________________________________\n",
      "bn4c_branch2c (BatchNormalizatio (None, 1024, 14, 14)  4096        res4c_branch2c[0][0]             \n",
      "____________________________________________________________________________________________________\n",
      "merge_12 (Merge)                 (None, 1024, 14, 14)  0           bn4c_branch2c[0][0]              \n",
      "                                                                   activation_28[0][0]              \n",
      "____________________________________________________________________________________________________\n",
      "activation_31 (Activation)       (None, 1024, 14, 14)  0           merge_12[0][0]                   \n",
      "____________________________________________________________________________________________________\n",
      "res4d_branch2a (Convolution2D)   (None, 256, 14, 14)   262400      activation_31[0][0]              \n",
      "____________________________________________________________________________________________________\n",
      "bn4d_branch2a (BatchNormalizatio (None, 256, 14, 14)   1024        res4d_branch2a[0][0]             \n",
      "____________________________________________________________________________________________________\n",
      "activation_32 (Activation)       (None, 256, 14, 14)   0           bn4d_branch2a[0][0]              \n",
      "____________________________________________________________________________________________________\n",
      "res4d_branch2b (Convolution2D)   (None, 256, 14, 14)   590080      activation_32[0][0]              \n",
      "____________________________________________________________________________________________________\n",
      "bn4d_branch2b (BatchNormalizatio (None, 256, 14, 14)   1024        res4d_branch2b[0][0]             \n",
      "____________________________________________________________________________________________________\n",
      "activation_33 (Activation)       (None, 256, 14, 14)   0           bn4d_branch2b[0][0]              \n",
      "____________________________________________________________________________________________________\n",
      "res4d_branch2c (Convolution2D)   (None, 1024, 14, 14)  263168      activation_33[0][0]              \n",
      "____________________________________________________________________________________________________\n",
      "bn4d_branch2c (BatchNormalizatio (None, 1024, 14, 14)  4096        res4d_branch2c[0][0]             \n",
      "____________________________________________________________________________________________________\n",
      "merge_13 (Merge)                 (None, 1024, 14, 14)  0           bn4d_branch2c[0][0]              \n",
      "                                                                   activation_31[0][0]              \n",
      "____________________________________________________________________________________________________\n",
      "activation_34 (Activation)       (None, 1024, 14, 14)  0           merge_13[0][0]                   \n",
      "____________________________________________________________________________________________________\n",
      "res4e_branch2a (Convolution2D)   (None, 256, 14, 14)   262400      activation_34[0][0]              \n",
      "____________________________________________________________________________________________________\n",
      "bn4e_branch2a (BatchNormalizatio (None, 256, 14, 14)   1024        res4e_branch2a[0][0]             \n",
      "____________________________________________________________________________________________________\n",
      "activation_35 (Activation)       (None, 256, 14, 14)   0           bn4e_branch2a[0][0]              \n",
      "____________________________________________________________________________________________________\n",
      "res4e_branch2b (Convolution2D)   (None, 256, 14, 14)   590080      activation_35[0][0]              \n",
      "____________________________________________________________________________________________________\n",
      "bn4e_branch2b (BatchNormalizatio (None, 256, 14, 14)   1024        res4e_branch2b[0][0]             \n",
      "____________________________________________________________________________________________________\n",
      "activation_36 (Activation)       (None, 256, 14, 14)   0           bn4e_branch2b[0][0]              \n",
      "____________________________________________________________________________________________________\n",
      "res4e_branch2c (Convolution2D)   (None, 1024, 14, 14)  263168      activation_36[0][0]              \n",
      "____________________________________________________________________________________________________\n",
      "bn4e_branch2c (BatchNormalizatio (None, 1024, 14, 14)  4096        res4e_branch2c[0][0]             \n",
      "____________________________________________________________________________________________________\n",
      "merge_14 (Merge)                 (None, 1024, 14, 14)  0           bn4e_branch2c[0][0]              \n",
      "                                                                   activation_34[0][0]              \n",
      "____________________________________________________________________________________________________\n",
      "activation_37 (Activation)       (None, 1024, 14, 14)  0           merge_14[0][0]                   \n",
      "____________________________________________________________________________________________________\n",
      "res4f_branch2a (Convolution2D)   (None, 256, 14, 14)   262400      activation_37[0][0]              \n",
      "____________________________________________________________________________________________________\n",
      "bn4f_branch2a (BatchNormalizatio (None, 256, 14, 14)   1024        res4f_branch2a[0][0]             \n",
      "____________________________________________________________________________________________________\n",
      "activation_38 (Activation)       (None, 256, 14, 14)   0           bn4f_branch2a[0][0]              \n",
      "____________________________________________________________________________________________________\n",
      "res4f_branch2b (Convolution2D)   (None, 256, 14, 14)   590080      activation_38[0][0]              \n",
      "____________________________________________________________________________________________________\n",
      "bn4f_branch2b (BatchNormalizatio (None, 256, 14, 14)   1024        res4f_branch2b[0][0]             \n",
      "____________________________________________________________________________________________________\n",
      "activation_39 (Activation)       (None, 256, 14, 14)   0           bn4f_branch2b[0][0]              \n",
      "____________________________________________________________________________________________________\n",
      "res4f_branch2c (Convolution2D)   (None, 1024, 14, 14)  263168      activation_39[0][0]              \n",
      "____________________________________________________________________________________________________\n",
      "bn4f_branch2c (BatchNormalizatio (None, 1024, 14, 14)  4096        res4f_branch2c[0][0]             \n",
      "____________________________________________________________________________________________________\n",
      "merge_15 (Merge)                 (None, 1024, 14, 14)  0           bn4f_branch2c[0][0]              \n",
      "                                                                   activation_37[0][0]              \n",
      "____________________________________________________________________________________________________\n",
      "activation_40 (Activation)       (None, 1024, 14, 14)  0           merge_15[0][0]                   \n",
      "____________________________________________________________________________________________________\n",
      "res5a_branch2a (Convolution2D)   (None, 512, 7, 7)     524800      activation_40[0][0]              \n",
      "____________________________________________________________________________________________________\n",
      "bn5a_branch2a (BatchNormalizatio (None, 512, 7, 7)     2048        res5a_branch2a[0][0]             \n",
      "____________________________________________________________________________________________________\n",
      "activation_41 (Activation)       (None, 512, 7, 7)     0           bn5a_branch2a[0][0]              \n",
      "____________________________________________________________________________________________________\n",
      "res5a_branch2b (Convolution2D)   (None, 512, 7, 7)     2359808     activation_41[0][0]              \n",
      "____________________________________________________________________________________________________\n",
      "bn5a_branch2b (BatchNormalizatio (None, 512, 7, 7)     2048        res5a_branch2b[0][0]             \n",
      "____________________________________________________________________________________________________\n",
      "activation_42 (Activation)       (None, 512, 7, 7)     0           bn5a_branch2b[0][0]              \n",
      "____________________________________________________________________________________________________\n",
      "res5a_branch2c (Convolution2D)   (None, 2048, 7, 7)    1050624     activation_42[0][0]              \n",
      "____________________________________________________________________________________________________\n",
      "res5a_branch1 (Convolution2D)    (None, 2048, 7, 7)    2099200     activation_40[0][0]              \n",
      "____________________________________________________________________________________________________\n",
      "bn5a_branch2c (BatchNormalizatio (None, 2048, 7, 7)    8192        res5a_branch2c[0][0]             \n",
      "____________________________________________________________________________________________________\n",
      "bn5a_branch1 (BatchNormalization (None, 2048, 7, 7)    8192        res5a_branch1[0][0]              \n",
      "____________________________________________________________________________________________________\n",
      "merge_16 (Merge)                 (None, 2048, 7, 7)    0           bn5a_branch2c[0][0]              \n",
      "                                                                   bn5a_branch1[0][0]               \n",
      "____________________________________________________________________________________________________\n",
      "activation_43 (Activation)       (None, 2048, 7, 7)    0           merge_16[0][0]                   \n",
      "____________________________________________________________________________________________________\n",
      "res5b_branch2a (Convolution2D)   (None, 512, 7, 7)     1049088     activation_43[0][0]              \n",
      "____________________________________________________________________________________________________\n",
      "bn5b_branch2a (BatchNormalizatio (None, 512, 7, 7)     2048        res5b_branch2a[0][0]             \n",
      "____________________________________________________________________________________________________\n",
      "activation_44 (Activation)       (None, 512, 7, 7)     0           bn5b_branch2a[0][0]              \n",
      "____________________________________________________________________________________________________\n",
      "res5b_branch2b (Convolution2D)   (None, 512, 7, 7)     2359808     activation_44[0][0]              \n",
      "____________________________________________________________________________________________________\n",
      "bn5b_branch2b (BatchNormalizatio (None, 512, 7, 7)     2048        res5b_branch2b[0][0]             \n",
      "____________________________________________________________________________________________________\n",
      "activation_45 (Activation)       (None, 512, 7, 7)     0           bn5b_branch2b[0][0]              \n",
      "____________________________________________________________________________________________________\n",
      "res5b_branch2c (Convolution2D)   (None, 2048, 7, 7)    1050624     activation_45[0][0]              \n",
      "____________________________________________________________________________________________________\n",
      "bn5b_branch2c (BatchNormalizatio (None, 2048, 7, 7)    8192        res5b_branch2c[0][0]             \n",
      "____________________________________________________________________________________________________\n",
      "merge_17 (Merge)                 (None, 2048, 7, 7)    0           bn5b_branch2c[0][0]              \n",
      "                                                                   activation_43[0][0]              \n",
      "____________________________________________________________________________________________________\n",
      "activation_46 (Activation)       (None, 2048, 7, 7)    0           merge_17[0][0]                   \n",
      "____________________________________________________________________________________________________\n",
      "res5c_branch2a (Convolution2D)   (None, 512, 7, 7)     1049088     activation_46[0][0]              \n",
      "____________________________________________________________________________________________________\n",
      "bn5c_branch2a (BatchNormalizatio (None, 512, 7, 7)     2048        res5c_branch2a[0][0]             \n",
      "____________________________________________________________________________________________________\n",
      "activation_47 (Activation)       (None, 512, 7, 7)     0           bn5c_branch2a[0][0]              \n",
      "____________________________________________________________________________________________________\n",
      "res5c_branch2b (Convolution2D)   (None, 512, 7, 7)     2359808     activation_47[0][0]              \n",
      "____________________________________________________________________________________________________\n",
      "bn5c_branch2b (BatchNormalizatio (None, 512, 7, 7)     2048        res5c_branch2b[0][0]             \n",
      "____________________________________________________________________________________________________\n",
      "activation_48 (Activation)       (None, 512, 7, 7)     0           bn5c_branch2b[0][0]              \n",
      "____________________________________________________________________________________________________\n",
      "res5c_branch2c (Convolution2D)   (None, 2048, 7, 7)    1050624     activation_48[0][0]              \n",
      "____________________________________________________________________________________________________\n",
      "bn5c_branch2c (BatchNormalizatio (None, 2048, 7, 7)    8192        res5c_branch2c[0][0]             \n",
      "____________________________________________________________________________________________________\n",
      "merge_18 (Merge)                 (None, 2048, 7, 7)    0           bn5c_branch2c[0][0]              \n",
      "                                                                   activation_46[0][0]              \n",
      "____________________________________________________________________________________________________\n",
      "activation_49 (Activation)       (None, 2048, 7, 7)    0           merge_18[0][0]                   \n",
      "____________________________________________________________________________________________________\n",
      "avg_pool (AveragePooling2D)      (None, 2048, 1, 1)    0           activation_49[0][0]              \n",
      "____________________________________________________________________________________________________\n",
      "globalaveragepooling2d_1 (Global (None, 2048)          0           avg_pool[0][0]                   \n",
      "____________________________________________________________________________________________________\n",
      "dense_10 (Dense)                 (None, 1024)          2098176     globalaveragepooling2d_1[0][0]   \n",
      "____________________________________________________________________________________________________\n",
      "dropout_4 (Dropout)              (None, 1024)          0           dense_10[0][0]                   \n",
      "____________________________________________________________________________________________________\n",
      "dense_11 (Dense)                 (None, 512)           524800      dropout_4[0][0]                  \n",
      "____________________________________________________________________________________________________\n",
      "dense_12 (Dense)                 (None, 100)           51300       dense_11[0][0]                   \n",
      "====================================================================================================\n",
      "Total params: 26,261,988\n",
      "Trainable params: 2,674,276\n",
      "Non-trainable params: 23,587,712\n",
      "____________________________________________________________________________________________________\n"
     ]
    }
   ],
   "source": [
    "model_final3.summary()"
   ]
  },
  {
   "cell_type": "code",
   "execution_count": 25,
   "metadata": {},
   "outputs": [
    {
     "name": "stdout",
     "output_type": "stream",
     "text": [
      "Train on 6222 samples, validate on 2074 samples\n",
      "Epoch 1/10\n"
     ]
    },
    {
     "name": "stderr",
     "output_type": "stream",
     "text": [
      "/usr/local/lib/python3.5/dist-packages/mxnet/module/bucketing_module.py:385: UserWarning: Optimizer created manually outside Module but rescale_grad is not normalized to 1.0/batch_size/num_workers (1.0 vs. 0.01). Is this intended?\n",
      "  force_init=force_init)\n"
     ]
    },
    {
     "name": "stdout",
     "output_type": "stream",
     "text": [
      "6222/6222 [==============================] - 23s - loss: 4.5809 - acc: 0.0317 - val_loss: 4.5787 - val_acc: 0.0309\n",
      "Epoch 2/10\n",
      "6222/6222 [==============================] - 19s - loss: 4.5678 - acc: 0.0416 - val_loss: 4.5631 - val_acc: 0.0670\n",
      "Epoch 3/10\n",
      "6222/6222 [==============================] - 19s - loss: 4.5467 - acc: 0.0709 - val_loss: 4.5476 - val_acc: 0.0955\n",
      "Epoch 4/10\n",
      "6222/6222 [==============================] - 19s - loss: 4.5319 - acc: 0.0921 - val_loss: 4.5309 - val_acc: 0.1205\n",
      "Epoch 5/10\n",
      "6222/6222 [==============================] - 19s - loss: 4.5174 - acc: 0.1072 - val_loss: 4.5176 - val_acc: 0.1292\n",
      "Epoch 6/10\n",
      "6222/6222 [==============================] - 19s - loss: 4.5020 - acc: 0.1176 - val_loss: 4.4970 - val_acc: 0.1258\n",
      "Epoch 7/10\n",
      "6222/6222 [==============================] - 19s - loss: 4.4844 - acc: 0.1218 - val_loss: 4.4814 - val_acc: 0.1205\n",
      "Epoch 8/10\n",
      "6222/6222 [==============================] - 19s - loss: 4.4671 - acc: 0.1286 - val_loss: 4.4665 - val_acc: 0.1176\n",
      "Epoch 9/10\n",
      "6222/6222 [==============================] - 19s - loss: 4.4484 - acc: 0.1294 - val_loss: 4.4485 - val_acc: 0.1176\n",
      "Epoch 10/10\n",
      "6222/6222 [==============================] - 19s - loss: 4.4319 - acc: 0.1276 - val_loss: 4.4273 - val_acc: 0.1119\n"
     ]
    },
    {
     "data": {
      "text/plain": [
       "<keras.callbacks.History at 0x7f5e3fab6358>"
      ]
     },
     "execution_count": 25,
     "metadata": {},
     "output_type": "execute_result"
    }
   ],
   "source": [
    "model_final3.fit(X_train, y_train,\n",
    "                nb_epoch=10,\n",
    "                shuffle=True,\n",
    "                batch_size=100,\n",
    "                validation_data=(X_test, y_test))"
   ]
  },
  {
   "cell_type": "code",
   "execution_count": null,
   "metadata": {},
   "outputs": [],
   "source": []
  },
  {
   "cell_type": "code",
   "execution_count": null,
   "metadata": {},
   "outputs": [],
   "source": []
  }
 ],
 "metadata": {
  "kernelspec": {
   "display_name": "Python 3",
   "language": "python",
   "name": "python3"
  },
  "language_info": {
   "codemirror_mode": {
    "name": "ipython",
    "version": 3
   },
   "file_extension": ".py",
   "mimetype": "text/x-python",
   "name": "python",
   "nbconvert_exporter": "python",
   "pygments_lexer": "ipython3",
   "version": "3.5.2"
  }
 },
 "nbformat": 4,
 "nbformat_minor": 2
}
